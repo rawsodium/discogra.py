{
 "cells": [
  {
   "cell_type": "code",
   "execution_count": null,
   "metadata": {},
   "outputs": [],
   "source": [
    "import numpy as np\n",
    "import pandas as pd\n",
    "\n",
    "# Data imported from CSV files. One CSV for the albums, one for the singles\n",
    "# Each CSV file contains the Artist Name, Album/Single Title, Record Label, Location of Pressing, Year of Original Release, Year\n",
    "# of Pressing, Country, Genre, Styles (within the specified genres), and Media Condition.\n",
    "\n",
    "# Information was pulled from Discogs.com based on entries I had identified in my own collection\n",
    "albums = pd.read_csv('albums.csv')\n",
    "singles = pd.read_csv('singles.csv')\n",
    "\n"
   ]
  }
 ],
 "metadata": {
  "kernelspec": {
   "display_name": "discograpy",
   "language": "python",
   "name": "python3"
  },
  "language_info": {
   "name": "python",
   "version": "3.10.9"
  },
  "orig_nbformat": 4
 },
 "nbformat": 4,
 "nbformat_minor": 2
}
