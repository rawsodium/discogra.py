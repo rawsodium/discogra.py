{
 "cells": [
  {
   "cell_type": "code",
   "execution_count": 1,
   "metadata": {},
   "outputs": [],
   "source": [
    "import numpy as np\n",
    "import pandas as pd\n",
    "\n",
    "albums = pd.read_csv('albums.csv')\n",
    "singles = pd.read_csv('singles.csv')"
   ]
  },
  {
   "attachments": {},
   "cell_type": "markdown",
   "metadata": {},
   "source": [
    "The data was imported from CSV files. One CSV contains information for full albums, and the other for singles.\n",
    "Each CSV file contains the Artist Name, Album/Single Title, Record Label, Location of Pressing, Year of Original Release, Year\n",
    "of Pressing, Country, Genre, Styles (within the specified genres), and Media Condition.\n",
    "\n",
    "Information was pulled from Discogs.com based on entries I had identified in my own collection. There are some missing fields for entries, most notably in the Location of Pressing, Year of Pressing, and Media Condition columns. \n",
    "\n",
    "Clarification of Data Columns:\n",
    "- Label refers to the record labels that released the media. In some cases, one release can be listed under multiple labels.\n",
    "- Year of Release refers to when the album or single was originally released. \n",
    "- Year of Pressing refers to when the specific item in my collection was pressed, according to information like label and runout data (these are markings etched in the dead wax, the centermost part of the record where no grooves are etched). I try to collect pressings that are as close to original as possible.\n",
    "- Genre and Style columns come directly from each release entry on Discogs (however they were categorized by the person who first made the entry)."
   ]
  }
 ],
 "metadata": {
  "kernelspec": {
   "display_name": "discograpy",
   "language": "python",
   "name": "python3"
  },
  "language_info": {
   "codemirror_mode": {
    "name": "ipython",
    "version": 3
   },
   "file_extension": ".py",
   "mimetype": "text/x-python",
   "name": "python",
   "nbconvert_exporter": "python",
   "pygments_lexer": "ipython3",
   "version": "3.10.9"
  },
  "orig_nbformat": 4
 },
 "nbformat": 4,
 "nbformat_minor": 2
}
